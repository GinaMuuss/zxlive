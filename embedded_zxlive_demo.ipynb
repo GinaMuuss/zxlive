{
 "cells": [
  {
   "cell_type": "markdown",
   "id": "dc0b153f-dc2f-447e-82de-6e71b9d389d2",
   "metadata": {},
   "source": [
    "# Demo of embedded ZXLive running inside Jupyter Notebook\n",
    "\n",
    "First, run the cell below. An instance of ZXLive will open, with two identical graphs."
   ]
  },
  {
   "cell_type": "code",
   "execution_count": null,
   "id": "0e45e8da-f33b-4d13-8327-e394ae096ed9",
   "metadata": {},
   "outputs": [],
   "source": [
    "%gui qt6\n",
    "from zxlive import app\n",
    "\n",
    "import pyzx as zx\n",
    "\n",
    "g =  zx.Graph()\n",
    "g.add_vertex(zx.VertexType.Z, 0, 0)\n",
    "g.add_vertex(zx.VertexType.X, 0, 1)\n",
    "g.add_edge((0, 1))\n",
    "zx.draw(g)\n",
    "\n",
    "zxl = app.get_embedded_app()\n",
    "zxl.edit_graph(g, 'g1')\n",
    "zxl.edit_graph(g, 'g2')"
   ]
  },
  {
   "cell_type": "markdown",
   "id": "88f425a0-d50d-40e0-86cf-eecbc3a27277",
   "metadata": {},
   "source": [
    "After making some edits and saving them from within ZXLive, run the following cell to see the changes."
   ]
  },
  {
   "cell_type": "code",
   "execution_count": null,
   "id": "0a0a8a17-1795-4b13-aedf-30b346388e23",
   "metadata": {},
   "outputs": [],
   "source": [
    "zx.draw(zxl.get_copy_of_graph('g1'))\n",
    "zx.draw(zxl.get_copy_of_graph('g2'))"
   ]
  }
 ],
 "metadata": {
  "kernelspec": {
   "display_name": "Python 3 (ipykernel)",
   "language": "python",
   "name": "python3"
  },
  "language_info": {
   "codemirror_mode": {
    "name": "ipython",
    "version": 3
   },
   "file_extension": ".py",
   "mimetype": "text/x-python",
   "name": "python",
   "nbconvert_exporter": "python",
   "pygments_lexer": "ipython3",
   "version": "3.10.12"
  }
 },
 "nbformat": 4,
 "nbformat_minor": 5
}
